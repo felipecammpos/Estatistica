{
 "cells": [
  {
   "cell_type": "markdown",
   "id": "a0065cd8",
   "metadata": {},
   "source": [
    "# O que é Estatística\n",
    "Podemos considerar a Estatística como a área do conhecimento responsável por sistematizar as regras e técnicas utilizadas para organizar, descrever, analisar e interpretar dados."
   ]
  },
  {
   "cell_type": "markdown",
   "id": "deda2f32",
   "metadata": {},
   "source": [
    "## Estatística Descritiva\n",
    "Foco em descrever e resumir dados.\n"
   ]
  },
  {
   "cell_type": "markdown",
   "id": "57b48db0",
   "metadata": {},
   "source": [
    "## 1.2 População e amostra\n",
    "População: Conjunto de elementos que queremos estudar determinada característica.\n",
    "<br><br>\n",
    "Exemplo 01: Numa determinada escola deseja-se investigar quais alunos do 3º ano do ensino médio irão fazer vestibular em 2024. Neste caso, a população de interesse consiste em todos os alunos matriculados no 3º ano dessa escola.\n",
    "<br><br>\n",
    "Amostra: Qualquer subconjunto de uma população.\n",
    "<br><br>\n",
    "Vamos considerar que nossa população é finita e tem tamanho N.\n",
    "<br><br>\n",
    "A técnica de amostragem mais utilizada é a amostragem aleatória simples, às vezes denominada simplesmente como AAS. Neste tipo de seleção cada elemento da população recebe um número de 1 até N. Após isso, para coletar uma amostra de tamanho n, sorteia-se um elemento da população com ou sem reposição.\n",
    "<br><br>\n",
    "Vamos selecionar uma amostra simples com python utilizando o método <b>.sample()<b>"
   ]
  },
  {
   "cell_type": "code",
   "execution_count": 22,
   "id": "358f905f",
   "metadata": {},
   "outputs": [
    {
     "data": {
      "text/html": [
       "<div>\n",
       "<style scoped>\n",
       "    .dataframe tbody tr th:only-of-type {\n",
       "        vertical-align: middle;\n",
       "    }\n",
       "\n",
       "    .dataframe tbody tr th {\n",
       "        vertical-align: top;\n",
       "    }\n",
       "\n",
       "    .dataframe thead th {\n",
       "        text-align: right;\n",
       "    }\n",
       "</style>\n",
       "<table border=\"1\" class=\"dataframe\">\n",
       "  <thead>\n",
       "    <tr style=\"text-align: right;\">\n",
       "      <th></th>\n",
       "      <th>Cliente</th>\n",
       "      <th>Idade</th>\n",
       "    </tr>\n",
       "  </thead>\n",
       "  <tbody>\n",
       "    <tr>\n",
       "      <th>0</th>\n",
       "      <td>João</td>\n",
       "      <td>30</td>\n",
       "    </tr>\n",
       "    <tr>\n",
       "      <th>1</th>\n",
       "      <td>Jéssica</td>\n",
       "      <td>18</td>\n",
       "    </tr>\n",
       "    <tr>\n",
       "      <th>2</th>\n",
       "      <td>Pedro</td>\n",
       "      <td>28</td>\n",
       "    </tr>\n",
       "  </tbody>\n",
       "</table>\n",
       "</div>"
      ],
      "text/plain": [
       "   Cliente  Idade\n",
       "0     João     30\n",
       "1  Jéssica     18\n",
       "2    Pedro     28"
      ]
     },
     "execution_count": 22,
     "metadata": {},
     "output_type": "execute_result"
    }
   ],
   "source": [
    "from pathlib import Path\n",
    "import os.path as path\n",
    "\n",
    "import pandas as pd\n",
    "\n",
    "DIRETORIO_ATUAL = Path.cwd()  # Diretório onde o notebook está\n",
    "ENDERECO_ARQUIVO = path.join(DIRETORIO_ATUAL, 'dados', 'clientes.xlsx')\n",
    "\n",
    "df = pd.read_excel(ENDERECO_ARQUIVO)\n",
    "df.head(3)"
   ]
  },
  {
   "cell_type": "markdown",
   "id": "c676e0ba",
   "metadata": {},
   "source": [
    "Amostra aleatória simples de 5 elementos sem reposição "
   ]
  },
  {
   "cell_type": "code",
   "execution_count": 21,
   "id": "c6425a32",
   "metadata": {},
   "outputs": [
    {
     "data": {
      "text/html": [
       "<div>\n",
       "<style scoped>\n",
       "    .dataframe tbody tr th:only-of-type {\n",
       "        vertical-align: middle;\n",
       "    }\n",
       "\n",
       "    .dataframe tbody tr th {\n",
       "        vertical-align: top;\n",
       "    }\n",
       "\n",
       "    .dataframe thead th {\n",
       "        text-align: right;\n",
       "    }\n",
       "</style>\n",
       "<table border=\"1\" class=\"dataframe\">\n",
       "  <thead>\n",
       "    <tr style=\"text-align: right;\">\n",
       "      <th></th>\n",
       "      <th>Cliente</th>\n",
       "      <th>Idade</th>\n",
       "    </tr>\n",
       "  </thead>\n",
       "  <tbody>\n",
       "    <tr>\n",
       "      <th>4</th>\n",
       "      <td>Maria</td>\n",
       "      <td>38</td>\n",
       "    </tr>\n",
       "    <tr>\n",
       "      <th>6</th>\n",
       "      <td>Marcelo</td>\n",
       "      <td>23</td>\n",
       "    </tr>\n",
       "    <tr>\n",
       "      <th>3</th>\n",
       "      <td>Carlos</td>\n",
       "      <td>42</td>\n",
       "    </tr>\n",
       "    <tr>\n",
       "      <th>2</th>\n",
       "      <td>Pedro</td>\n",
       "      <td>28</td>\n",
       "    </tr>\n",
       "    <tr>\n",
       "      <th>1</th>\n",
       "      <td>Jéssica</td>\n",
       "      <td>18</td>\n",
       "    </tr>\n",
       "  </tbody>\n",
       "</table>\n",
       "</div>"
      ],
      "text/plain": [
       "   Cliente  Idade\n",
       "4    Maria     38\n",
       "6  Marcelo     23\n",
       "3   Carlos     42\n",
       "2    Pedro     28\n",
       "1  Jéssica     18"
      ]
     },
     "execution_count": 21,
     "metadata": {},
     "output_type": "execute_result"
    }
   ],
   "source": [
    "df.sample(5)"
   ]
  },
  {
   "cell_type": "markdown",
   "id": "dcb22d50",
   "metadata": {},
   "source": [
    "Amostra aleatória simples de 5 elementos com reposição"
   ]
  },
  {
   "cell_type": "code",
   "execution_count": 29,
   "id": "5cb6f08c",
   "metadata": {},
   "outputs": [
    {
     "data": {
      "text/html": [
       "<div>\n",
       "<style scoped>\n",
       "    .dataframe tbody tr th:only-of-type {\n",
       "        vertical-align: middle;\n",
       "    }\n",
       "\n",
       "    .dataframe tbody tr th {\n",
       "        vertical-align: top;\n",
       "    }\n",
       "\n",
       "    .dataframe thead th {\n",
       "        text-align: right;\n",
       "    }\n",
       "</style>\n",
       "<table border=\"1\" class=\"dataframe\">\n",
       "  <thead>\n",
       "    <tr style=\"text-align: right;\">\n",
       "      <th></th>\n",
       "      <th>age</th>\n",
       "      <th>sex</th>\n",
       "      <th>bmi</th>\n",
       "      <th>children</th>\n",
       "      <th>smoker</th>\n",
       "      <th>region</th>\n",
       "      <th>charges</th>\n",
       "    </tr>\n",
       "  </thead>\n",
       "  <tbody>\n",
       "    <tr>\n",
       "      <th>682</th>\n",
       "      <td>39</td>\n",
       "      <td>male</td>\n",
       "      <td>35.300</td>\n",
       "      <td>2</td>\n",
       "      <td>yes</td>\n",
       "      <td>southwest</td>\n",
       "      <td>40103.89000</td>\n",
       "    </tr>\n",
       "    <tr>\n",
       "      <th>508</th>\n",
       "      <td>24</td>\n",
       "      <td>female</td>\n",
       "      <td>25.270</td>\n",
       "      <td>0</td>\n",
       "      <td>no</td>\n",
       "      <td>northeast</td>\n",
       "      <td>3044.21330</td>\n",
       "    </tr>\n",
       "    <tr>\n",
       "      <th>1176</th>\n",
       "      <td>52</td>\n",
       "      <td>female</td>\n",
       "      <td>24.130</td>\n",
       "      <td>1</td>\n",
       "      <td>yes</td>\n",
       "      <td>northwest</td>\n",
       "      <td>23887.66270</td>\n",
       "    </tr>\n",
       "    <tr>\n",
       "      <th>975</th>\n",
       "      <td>29</td>\n",
       "      <td>male</td>\n",
       "      <td>22.895</td>\n",
       "      <td>0</td>\n",
       "      <td>yes</td>\n",
       "      <td>northeast</td>\n",
       "      <td>16138.76205</td>\n",
       "    </tr>\n",
       "    <tr>\n",
       "      <th>361</th>\n",
       "      <td>35</td>\n",
       "      <td>male</td>\n",
       "      <td>30.500</td>\n",
       "      <td>1</td>\n",
       "      <td>no</td>\n",
       "      <td>southwest</td>\n",
       "      <td>4751.07000</td>\n",
       "    </tr>\n",
       "  </tbody>\n",
       "</table>\n",
       "</div>"
      ],
      "text/plain": [
       "      age     sex     bmi  children smoker     region      charges\n",
       "682    39    male  35.300         2    yes  southwest  40103.89000\n",
       "508    24  female  25.270         0     no  northeast   3044.21330\n",
       "1176   52  female  24.130         1    yes  northwest  23887.66270\n",
       "975    29    male  22.895         0    yes  northeast  16138.76205\n",
       "361    35    male  30.500         1     no  southwest   4751.07000"
      ]
     },
     "execution_count": 29,
     "metadata": {},
     "output_type": "execute_result"
    }
   ],
   "source": [
    "df2 = pd.read_csv(r'C:\\Users\\Flp\\Documents\\Análise de Dados\\Estatística\\dados\\insurance.csv')\n",
    "df2.head\n",
    "df2.sample(n = 5, replace = True)"
   ]
  },
  {
   "cell_type": "markdown",
   "id": "733db756",
   "metadata": {},
   "source": [
    "## Variáveis Qualitativas x Quantitativas"
   ]
  },
  {
   "cell_type": "markdown",
   "id": "c3ff4a41",
   "metadata": {},
   "source": [
    "### Qualitativas\n",
    "Cada característica de uma população de interesse é denominada variável. Por exemplo, se nossa população forem os estudantes de uma escola, podemos definir algumas variáveis tais como: idade, turma, distância em km da casa do aluno até a escola, etc.\n",
    "<br><br>\n",
    "Se uma variável diz respeito a uma qualidade (atributo), denominamos-a de variável qualitativa. Se os possíveis valores puderem ser \"ordenados de forma natural\", classificamos como qualitativa ordinal, caso não, será denominada qualitativa nominal.\n",
    "<br><br>\n",
    "Vejamos alguns exemplos para facilitar o entendimento das definições:\n",
    "<br><br>\n",
    "Qualitativa Nominal: sexo (F ou M), fumante (sim ou não);\n",
    "<br><br>\n",
    "Qualitativa Ordinal: classe social (baixa, média, alta), tamanho (pequeno, médio, grande), escolaridade (1º, 2º ou 3º grau)."
   ]
  },
  {
   "cell_type": "markdown",
   "id": "f1718949",
   "metadata": {},
   "source": [
    "### Quantitativas\n",
    "Já as variáveis quantitativas representam dados numéricos, geralmente provenientes de alguma contagem ou medição. Se o conjunto de valores possíveis da variável for enumerável, dizemos que a variável é discreta, caso contrário, será chamada de variável quantitativa contínua.\n",
    "<br><br>\n",
    "Na prática, os instrumentos de medição limitam a quantidade de casas decimais de uma variável contínua. Como assim? Não conseguimos medir um comprimento com \"pi\" metros, por exemplo.\n",
    "<br><br>\n",
    "E mais, algumas vezes, variáveis discretas são tratadas como contínuas a fim de facilitar a análise gráfica ou resumo dos dados numa tabela. Veremos um exemplo disso mais adiante.\n",
    "<br><br>\n",
    "Exemplos:\n",
    "<br><br>\n",
    "Quantitativa Discreta: idade, número de filhos, quantidade de pessoas que fazem compras num site por dia.\n",
    "<br><br>\n",
    "Quantitativa Contínua: temperatura, salário, peso e altura."
   ]
  },
  {
   "cell_type": "markdown",
   "id": "657ab03e",
   "metadata": {},
   "source": [
    "# Tabelas e Gráficos"
   ]
  },
  {
   "cell_type": "markdown",
   "id": "9f919b2d",
   "metadata": {},
   "source": [
    "## Tabelas de Frequência\n",
    "Vamos começar resumindo dados qualitativos utilizando tabelas.\n",
    "<br>\n",
    "(a)Variáveis Qualitativas"
   ]
  },
  {
   "cell_type": "code",
   "execution_count": 31,
   "id": "eaaae026",
   "metadata": {},
   "outputs": [
    {
     "data": {
      "text/html": [
       "<div>\n",
       "<style scoped>\n",
       "    .dataframe tbody tr th:only-of-type {\n",
       "        vertical-align: middle;\n",
       "    }\n",
       "\n",
       "    .dataframe tbody tr th {\n",
       "        vertical-align: top;\n",
       "    }\n",
       "\n",
       "    .dataframe thead th {\n",
       "        text-align: right;\n",
       "    }\n",
       "</style>\n",
       "<table border=\"1\" class=\"dataframe\">\n",
       "  <thead>\n",
       "    <tr style=\"text-align: right;\">\n",
       "      <th></th>\n",
       "      <th>age</th>\n",
       "      <th>sex</th>\n",
       "      <th>bmi</th>\n",
       "      <th>children</th>\n",
       "      <th>smoker</th>\n",
       "      <th>region</th>\n",
       "      <th>charges</th>\n",
       "    </tr>\n",
       "  </thead>\n",
       "  <tbody>\n",
       "    <tr>\n",
       "      <th>0</th>\n",
       "      <td>19</td>\n",
       "      <td>female</td>\n",
       "      <td>27.900</td>\n",
       "      <td>0</td>\n",
       "      <td>yes</td>\n",
       "      <td>southwest</td>\n",
       "      <td>16884.92400</td>\n",
       "    </tr>\n",
       "    <tr>\n",
       "      <th>1</th>\n",
       "      <td>18</td>\n",
       "      <td>male</td>\n",
       "      <td>33.770</td>\n",
       "      <td>1</td>\n",
       "      <td>no</td>\n",
       "      <td>southeast</td>\n",
       "      <td>1725.55230</td>\n",
       "    </tr>\n",
       "    <tr>\n",
       "      <th>2</th>\n",
       "      <td>28</td>\n",
       "      <td>male</td>\n",
       "      <td>33.000</td>\n",
       "      <td>3</td>\n",
       "      <td>no</td>\n",
       "      <td>southeast</td>\n",
       "      <td>4449.46200</td>\n",
       "    </tr>\n",
       "    <tr>\n",
       "      <th>3</th>\n",
       "      <td>33</td>\n",
       "      <td>male</td>\n",
       "      <td>22.705</td>\n",
       "      <td>0</td>\n",
       "      <td>no</td>\n",
       "      <td>northwest</td>\n",
       "      <td>21984.47061</td>\n",
       "    </tr>\n",
       "    <tr>\n",
       "      <th>4</th>\n",
       "      <td>32</td>\n",
       "      <td>male</td>\n",
       "      <td>28.880</td>\n",
       "      <td>0</td>\n",
       "      <td>no</td>\n",
       "      <td>northwest</td>\n",
       "      <td>3866.85520</td>\n",
       "    </tr>\n",
       "  </tbody>\n",
       "</table>\n",
       "</div>"
      ],
      "text/plain": [
       "   age     sex     bmi  children smoker     region      charges\n",
       "0   19  female  27.900         0    yes  southwest  16884.92400\n",
       "1   18    male  33.770         1     no  southeast   1725.55230\n",
       "2   28    male  33.000         3     no  southeast   4449.46200\n",
       "3   33    male  22.705         0     no  northwest  21984.47061\n",
       "4   32    male  28.880         0     no  northwest   3866.85520"
      ]
     },
     "execution_count": 31,
     "metadata": {},
     "output_type": "execute_result"
    }
   ],
   "source": [
    "df2.head()"
   ]
  },
  {
   "cell_type": "markdown",
   "id": "dbd7e93d",
   "metadata": {},
   "source": [
    "Agora, nossa ideia é contar a quantidade de beneficiários por sexo e colocar numa tabela a fim de resumir os dados da variável \"sex\"."
   ]
  },
  {
   "cell_type": "code",
   "execution_count": 44,
   "id": "e6de40e3",
   "metadata": {},
   "outputs": [
    {
     "data": {
      "text/html": [
       "<div>\n",
       "<style scoped>\n",
       "    .dataframe tbody tr th:only-of-type {\n",
       "        vertical-align: middle;\n",
       "    }\n",
       "\n",
       "    .dataframe tbody tr th {\n",
       "        vertical-align: top;\n",
       "    }\n",
       "\n",
       "    .dataframe thead th {\n",
       "        text-align: right;\n",
       "    }\n",
       "</style>\n",
       "<table border=\"1\" class=\"dataframe\">\n",
       "  <thead>\n",
       "    <tr style=\"text-align: right;\">\n",
       "      <th></th>\n",
       "      <th>sex</th>\n",
       "      <th>Frequência Absoluta</th>\n",
       "    </tr>\n",
       "  </thead>\n",
       "  <tbody>\n",
       "    <tr>\n",
       "      <th>0</th>\n",
       "      <td>male</td>\n",
       "      <td>676</td>\n",
       "    </tr>\n",
       "    <tr>\n",
       "      <th>1</th>\n",
       "      <td>female</td>\n",
       "      <td>662</td>\n",
       "    </tr>\n",
       "  </tbody>\n",
       "</table>\n",
       "</div>"
      ],
      "text/plain": [
       "      sex  Frequência Absoluta\n",
       "0    male                  676\n",
       "1  female                  662"
      ]
     },
     "execution_count": 44,
     "metadata": {},
     "output_type": "execute_result"
    }
   ],
   "source": [
    "df2['sex'].value_counts().reset_index(name = 'Frequência Absoluta')"
   ]
  },
  {
   "cell_type": "markdown",
   "id": "cdffa897",
   "metadata": {},
   "source": [
    "Melhorando a formatação da tabela para uma melhor visualização."
   ]
  },
  {
   "cell_type": "code",
   "execution_count": 43,
   "id": "5ed544c2",
   "metadata": {},
   "outputs": [
    {
     "data": {
      "text/html": [
       "<div>\n",
       "<style scoped>\n",
       "    .dataframe tbody tr th:only-of-type {\n",
       "        vertical-align: middle;\n",
       "    }\n",
       "\n",
       "    .dataframe tbody tr th {\n",
       "        vertical-align: top;\n",
       "    }\n",
       "\n",
       "    .dataframe thead th {\n",
       "        text-align: right;\n",
       "    }\n",
       "</style>\n",
       "<table border=\"1\" class=\"dataframe\">\n",
       "  <thead>\n",
       "    <tr style=\"text-align: right;\">\n",
       "      <th>Sexo</th>\n",
       "      <th>Frequência Absoluta</th>\n",
       "    </tr>\n",
       "  </thead>\n",
       "  <tbody>\n",
       "    <tr>\n",
       "      <th>male</th>\n",
       "      <td>676</td>\n",
       "    </tr>\n",
       "    <tr>\n",
       "      <th>female</th>\n",
       "      <td>662</td>\n",
       "    </tr>\n",
       "  </tbody>\n",
       "</table>\n",
       "</div>"
      ],
      "text/plain": [
       "Sexo    Frequência Absoluta\n",
       "male                    676\n",
       "female                  662"
      ]
     },
     "execution_count": 43,
     "metadata": {},
     "output_type": "execute_result"
    }
   ],
   "source": [
    "formatado = df2['sex'].value_counts().reset_index(name = 'Frequência Absoluta').set_index('sex')\n",
    "formatado.index.name = None\n",
    "formatado.columns.name = 'Sexo'\n",
    "formatado"
   ]
  },
  {
   "cell_type": "markdown",
   "id": "c38e6bb6",
   "metadata": {},
   "source": [
    "<b>Frequência Absoluta (fa)</b>: Quantidade de vezes que cada valor distinto aparece.\n",
    "<br>\n",
    "<b>Frequência Relativa (fr)</b>: Percentual de vezes que cada fa aparece em relação ao total da amostra n."
   ]
  },
  {
   "attachments": {
    "image.png": {
     "image/png": "[encoded data removed]"
    }
   },
   "cell_type": "markdown",
   "id": "3fb708f4",
   "metadata": {},
   "source": [
    "Além da frequência absoluta, podemos resumir nossos dados utilizando a frequência relativa. Para encontrar a frequência relativa da categoria \"masculino\".\n",
    "<br>\n",
    "Fórmula da fr: fa/n x 100 \n",
    "<br>\n",
    "![image.png](attachment:image.png)"
   ]
  },
  {
   "cell_type": "markdown",
   "id": "1df63e05",
   "metadata": {},
   "source": [
    "Proporção de beneficiários por sexo"
   ]
  },
  {
   "cell_type": "code",
   "execution_count": 51,
   "id": "3ada4945",
   "metadata": {},
   "outputs": [
    {
     "data": {
      "text/html": [
       "<div>\n",
       "<style scoped>\n",
       "    .dataframe tbody tr th:only-of-type {\n",
       "        vertical-align: middle;\n",
       "    }\n",
       "\n",
       "    .dataframe tbody tr th {\n",
       "        vertical-align: top;\n",
       "    }\n",
       "\n",
       "    .dataframe thead th {\n",
       "        text-align: right;\n",
       "    }\n",
       "</style>\n",
       "<table border=\"1\" class=\"dataframe\">\n",
       "  <thead>\n",
       "    <tr style=\"text-align: right;\">\n",
       "      <th>Sexo</th>\n",
       "      <th>Frequência Absoluta</th>\n",
       "      <th>Frequência Relativa (%)</th>\n",
       "    </tr>\n",
       "  </thead>\n",
       "  <tbody>\n",
       "    <tr>\n",
       "      <th>Masculino</th>\n",
       "      <td>676</td>\n",
       "      <td>50.52</td>\n",
       "    </tr>\n",
       "    <tr>\n",
       "      <th>Feminino</th>\n",
       "      <td>662</td>\n",
       "      <td>49.48</td>\n",
       "    </tr>\n",
       "  </tbody>\n",
       "</table>\n",
       "</div>"
      ],
      "text/plain": [
       "Sexo       Frequência Absoluta  Frequência Relativa (%)\n",
       "Masculino                  676                    50.52\n",
       "Feminino                   662                    49.48"
      ]
     },
     "execution_count": 51,
     "metadata": {},
     "output_type": "execute_result"
    }
   ],
   "source": [
    "#Criando DataFrame\n",
    "tabela_fr = pd.DataFrame({'Frequência Absoluta': df2['sex'].value_counts(),\n",
    "                         'Frequência Relativa (%)': df2['sex'].value_counts(1).round(4)*100})\n",
    "#Formatando \n",
    "tabela_fr = tabela_fr.set_axis(['Masculino', 'Feminino'], axis = 'index').rename_axis('Sexo', axis = 'columns')\n",
    "\n",
    "#Visualizando\n",
    "tabela_fr"
   ]
  },
  {
   "cell_type": "markdown",
   "id": "dd318d20",
   "metadata": {
    "scrolled": true
   },
   "source": [
    "Proporção de fumantes"
   ]
  },
  {
   "cell_type": "code",
   "execution_count": 60,
   "id": "4b17ca0e",
   "metadata": {},
   "outputs": [
    {
     "data": {
      "text/html": [
       "<div>\n",
       "<style scoped>\n",
       "    .dataframe tbody tr th:only-of-type {\n",
       "        vertical-align: middle;\n",
       "    }\n",
       "\n",
       "    .dataframe tbody tr th {\n",
       "        vertical-align: top;\n",
       "    }\n",
       "\n",
       "    .dataframe thead th {\n",
       "        text-align: right;\n",
       "    }\n",
       "</style>\n",
       "<table border=\"1\" class=\"dataframe\">\n",
       "  <thead>\n",
       "    <tr style=\"text-align: right;\">\n",
       "      <th></th>\n",
       "      <th>Frequência Absoluta</th>\n",
       "      <th>Frequência Relativa (%)</th>\n",
       "    </tr>\n",
       "  </thead>\n",
       "  <tbody>\n",
       "    <tr>\n",
       "      <th>Não</th>\n",
       "      <td>1064</td>\n",
       "      <td>79.52</td>\n",
       "    </tr>\n",
       "    <tr>\n",
       "      <th>Sim</th>\n",
       "      <td>274</td>\n",
       "      <td>20.48</td>\n",
       "    </tr>\n",
       "  </tbody>\n",
       "</table>\n",
       "</div>"
      ],
      "text/plain": [
       "     Frequência Absoluta  Frequência Relativa (%)\n",
       "Não                 1064                    79.52\n",
       "Sim                  274                    20.48"
      ]
     },
     "execution_count": 60,
     "metadata": {},
     "output_type": "execute_result"
    }
   ],
   "source": [
    "fumantes_fr = pd.DataFrame({'Frequência Absoluta': df2['smoker'].value_counts(),\n",
    "                           'Frequência Relativa (%)': df2['smoker'].value_counts(1).round(4)*100})\n",
    "fumantes_fr = fumantes_fr.set_axis(['Não', 'Sim'], axis = 'index')\n",
    "fumantes_fr"
   ]
  },
  {
   "cell_type": "markdown",
   "id": "6639d221",
   "metadata": {},
   "source": [
    "(b) Variáveis Quantitativas Discretas.\n",
    "<br><br>\n",
    "Para resumir os dados da variável 'Children' podemos seguir a mesma ideia para resumir uma variável qualitativa."
   ]
  },
  {
   "cell_type": "code",
   "execution_count": 69,
   "id": "926a7aeb",
   "metadata": {},
   "outputs": [
    {
     "data": {
      "text/plain": [
       "children\n",
       "0    574\n",
       "1    324\n",
       "2    240\n",
       "3    157\n",
       "4     25\n",
       "5     18\n",
       "Name: count, dtype: int64"
      ]
     },
     "execution_count": 69,
     "metadata": {},
     "output_type": "execute_result"
    }
   ],
   "source": [
    "df2['children'].value_counts()"
   ]
  },
  {
   "cell_type": "code",
   "execution_count": 70,
   "id": "fd63a16c",
   "metadata": {},
   "outputs": [
    {
     "data": {
      "text/plain": [
       "children\n",
       "0    0.428999\n",
       "1    0.242152\n",
       "2    0.179372\n",
       "3    0.117339\n",
       "4    0.018685\n",
       "5    0.013453\n",
       "Name: proportion, dtype: float64"
      ]
     },
     "execution_count": 70,
     "metadata": {},
     "output_type": "execute_result"
    }
   ],
   "source": [
    "df2['children'].value_counts(1)"
   ]
  },
  {
   "cell_type": "markdown",
   "id": "ad4c3729",
   "metadata": {},
   "source": [
    "De acordo com a tabela acima, temos que 42% dos beneficiários não tem dependentes registrados e, aproximadamente apenas 1,35% tem 05 dependentes. E mais, não há nenhum beneficiário com mais de 05 dependentes."
   ]
  },
  {
   "cell_type": "markdown",
   "id": "23f0e217",
   "metadata": {},
   "source": [
    "Fórmula de Sturges: K = 1 + 3,322 * log10(n).\n",
    "<br>\n",
    "A fórmula de Sturges é utilizada para determinar a quantidade de classes que serão utilizadas para construir um histograma. Em que n representa a quantidade de elementos utilizadas na amostragem.\n",
    "<br>\n",
    "Antes de prosseguir, iremos visualizar a quantidade de registros na coluna \"age\" e também as idades mínima e máxima:"
   ]
  },
  {
   "cell_type": "code",
   "execution_count": 78,
   "id": "322ed1ad",
   "metadata": {},
   "outputs": [
    {
     "name": "stdout",
     "output_type": "stream",
     "text": [
      "O total de dados na coluna \"age\": 1338\n",
      "Valor máximo da coluna \"age\": 64\n",
      "Valor mínimo da coluna \"age\": 18\n"
     ]
    }
   ],
   "source": [
    "print(f'O total de dados na coluna \"age\": {df2[\"age\"].count()}')\n",
    "print(f'Valor máximo da coluna \"age\": {df2[\"age\"].max()}')\n",
    "print(f'Valor mínimo da coluna \"age\": {df2[\"age\"].min()}')"
   ]
  },
  {
   "cell_type": "markdown",
   "id": "f55e2d2e",
   "metadata": {},
   "source": [
    "Considerando a Fórmula de Sturges para 1338 dados e, arredondando o valor de K (11,39) para o inteiro mais próximo, temos que o total de classes recomendado é igual à 11.\n",
    "\n",
    "Como \"64 - 18 = 46\" e \"46/11 = 4,18\", vamos optar por considerar dez classes de tamanho 05 para evitar números não inteiros nas extremidades das classes."
   ]
  },
  {
   "cell_type": "code",
   "execution_count": 79,
   "id": "71fb1774",
   "metadata": {},
   "outputs": [
    {
     "ename": "SyntaxError",
     "evalue": "invalid syntax (3273569687.py, line 1)",
     "output_type": "error",
     "traceback": [
      "\u001b[1;36m  Cell \u001b[1;32mIn[79], line 1\u001b[1;36m\u001b[0m\n\u001b[1;33m    IRkernel::installspec()\u001b[0m\n\u001b[1;37m             ^\u001b[0m\n\u001b[1;31mSyntaxError\u001b[0m\u001b[1;31m:\u001b[0m invalid syntax\n"
     ]
    }
   ],
   "source": []
  }
 ],
 "metadata": {
  "kernelspec": {
   "display_name": "Python 3 (ipykernel)",
   "language": "python",
   "name": "python3"
  },
  "language_info": {
   "codemirror_mode": {
    "name": "ipython",
    "version": 3
   },
   "file_extension": ".py",
   "mimetype": "text/x-python",
   "name": "python",
   "nbconvert_exporter": "python",
   "pygments_lexer": "ipython3",
   "version": "3.11.7"
  }
 },
 "nbformat": 4,
 "nbformat_minor": 5
}
